{
 "cells": [
  {
   "cell_type": "markdown",
   "metadata": {},
   "source": [
    "## 从IGDB数据库爬取游戏种类和发行时间"
   ]
  },
  {
   "cell_type": "code",
   "execution_count": null,
   "metadata": {},
   "outputs": [
    {
     "name": "stdout",
     "output_type": "stream",
     "text": [
      "Extracted 2360 unique games. Saved to unique_games.csv.\n"
     ]
    }
   ],
   "source": [
    "## 提取所有游戏的列表\n",
    "import pandas as pd\n",
    "\n",
    "file_path = \"Twitch_game_data.csv\"\n",
    "df = pd.read_csv(file_path, encoding='ISO-8859-1')\n",
    "unique_games = df[\"Game\"].unique()\n",
    "\n",
    "unique_games_df = pd.DataFrame(unique_games, columns=[\"Game\"])\n",
    "unique_games_path = \"unique_games.csv\"\n",
    "unique_games_df.to_csv(unique_games_path, index=False, encoding='ISO-8859-1')\n",
    "\n",
    "print(f\"Extracted {len(unique_games)} unique games. Saved to {unique_games_path}.\")"
   ]
  },
  {
   "cell_type": "code",
   "execution_count": 4,
   "metadata": {},
   "outputs": [
    {
     "name": "stdout",
     "output_type": "stream",
     "text": [
      "Updated file saved: game_info.csv\n"
     ]
    }
   ],
   "source": [
    "import requests\n",
    "import pandas as pd\n",
    "import time\n",
    "\n",
    "# 你的 IGDB API 凭据\n",
    "CLIENT_ID = \"e1cvubjaunqp8g8rhyxmuog7ld4tsy\"  # 这里替换成你的 Client ID\n",
    "CLIENT_SECRET = \"tnettt8ysiuybxxi1g8dlkzlwbzice\"  # 这里替换成你的 Client Secret\n",
    "\n",
    "# 获取 OAuth 令牌\n",
    "def get_access_token():\n",
    "    url = \"https://id.twitch.tv/oauth2/token\"\n",
    "    params = {\n",
    "        \"client_id\": CLIENT_ID,\n",
    "        \"client_secret\": CLIENT_SECRET,\n",
    "        \"grant_type\": \"client_credentials\"\n",
    "    }\n",
    "    response = requests.post(url, params=params)\n",
    "    response.raise_for_status()\n",
    "    return response.json()[\"access_token\"]\n",
    "\n",
    "# 查询 IGDB API 获取游戏分类和上市日期\n",
    "def get_game_info(access_token, game_name):\n",
    "    url = \"https://api.igdb.com/v4/games\"\n",
    "    headers = {\n",
    "        \"Client-ID\": CLIENT_ID,\n",
    "        \"Authorization\": f\"Bearer {access_token}\",\n",
    "        \"Accept\": \"application/json\"\n",
    "    }\n",
    "    data = f'fields name, genres.name, first_release_date; where name ~ \"{game_name}\"*; limit 1;'\n",
    "    response = requests.post(url, headers=headers, data=data)\n",
    "    response.raise_for_status()\n",
    "    results = response.json()\n",
    "    \n",
    "    if results:\n",
    "        game = results[0]\n",
    "        genres = game.get(\"genres\", [])\n",
    "        genre_names = \", \".join([genre[\"name\"] for genre in genres]) if genres else \"Unknown\"\n",
    "        release_date = game.get(\"first_release_date\")\n",
    "        release_year_month = time.strftime('%Y-%m', time.gmtime(release_date)) if release_date else \"Unknown\"\n",
    "        return genre_names, release_year_month\n",
    "    return \"Unknown\", \"Unknown\"\n",
    "\n",
    "# 读取唯一游戏列表\n",
    "unique_games_path = \"unique_games.csv\"\n",
    "df_games = pd.read_csv(unique_games_path, encoding='ISO-8859-1')\n",
    "\n",
    "# 获取访问令牌\n",
    "access_token = get_access_token()\n",
    "\n",
    "# 创建游戏信息字典\n",
    "game_info_dict = {}\n",
    "for game in df_games[\"Game\"].tolist():\n",
    "    genre, release_date = get_game_info(access_token, game)\n",
    "    game_info_dict[game] = {\"Genre\": genre, \"Release Date\": release_date}\n",
    "\n",
    "# 生成包含游戏信息的 DataFrame\n",
    "df_game_info = pd.DataFrame.from_dict(game_info_dict, orient='index').reset_index()\n",
    "df_game_info.columns = [\"Game\", \"Genre\", \"Release Date\"]\n",
    "\n",
    "# 保存更新后的游戏信息文件\n",
    "output_path = \"game_info.csv\"\n",
    "df_game_info.to_csv(output_path, index=False, encoding='ISO-8859-1')\n",
    "print(f\"Updated file saved: {output_path}\")"
   ]
  },
  {
   "cell_type": "code",
   "execution_count": null,
   "metadata": {},
   "outputs": [
    {
     "name": "stdout",
     "output_type": "stream",
     "text": [
      "获取API访问令牌...\n",
      "测试前50个游戏的信息获取...\n"
     ]
    },
    {
     "name": "stderr",
     "output_type": "stream",
     "text": [
      "测试游戏:   0%|          | 0/50 [00:00<?, ?it/s]"
     ]
    },
    {
     "name": "stdout",
     "output_type": "stream",
     "text": [
      "\n",
      "游戏名称: League of Legends 找到 1 个结果:\n",
      "  1. League of Legends - 发布日期: 2009-10\n"
     ]
    },
    {
     "name": "stderr",
     "output_type": "stream",
     "text": [
      "测试游戏:   2%|▏         | 1/50 [00:00<00:32,  1.49it/s]"
     ]
    },
    {
     "name": "stdout",
     "output_type": "stream",
     "text": [
      "\n",
      "游戏名称: Counter-Strike: Global Offensive 找到 1 个结果:\n",
      "  1. Counter-Strike: Global Offensive - 发布日期: 2012-08\n"
     ]
    },
    {
     "name": "stderr",
     "output_type": "stream",
     "text": [
      "测试游戏:   4%|▍         | 2/50 [00:01<00:30,  1.60it/s]"
     ]
    },
    {
     "name": "stdout",
     "output_type": "stream",
     "text": [
      "\n",
      "游戏名称: Dota 2 找到 1 个结果:\n",
      "  1. Dota 2 - 发布日期: 2013-07\n"
     ]
    },
    {
     "name": "stderr",
     "output_type": "stream",
     "text": [
      "测试游戏:   6%|▌         | 3/50 [00:01<00:28,  1.65it/s]"
     ]
    },
    {
     "name": "stdout",
     "output_type": "stream",
     "text": [
      "\n",
      "游戏名称: Hearthstone 找到 1 个结果:\n",
      "  1. Hearthstone - 发布日期: 2014-03\n"
     ]
    },
    {
     "name": "stderr",
     "output_type": "stream",
     "text": [
      "测试游戏:   8%|▊         | 4/50 [00:02<00:27,  1.68it/s]"
     ]
    },
    {
     "name": "stdout",
     "output_type": "stream",
     "text": [
      "\n",
      "游戏名称: Call of Duty: Black Ops III 找到 2 个结果:\n",
      "  1. Call of Duty: Black Ops III - 发布日期: 2015-11\n",
      "  2. Call of Duty: Black Ops III - 发布日期: 2015-11\n"
     ]
    },
    {
     "name": "stderr",
     "output_type": "stream",
     "text": [
      "测试游戏:  10%|█         | 5/50 [00:03<00:27,  1.65it/s]"
     ]
    },
    {
     "name": "stdout",
     "output_type": "stream",
     "text": [
      "\n",
      "游戏名称: Minecraft 找到 1 个结果:\n",
      "  1. Minecraft - 发布日期: 2016-12\n"
     ]
    },
    {
     "name": "stderr",
     "output_type": "stream",
     "text": [
      "测试游戏:  12%|█▏        | 6/50 [00:03<00:25,  1.72it/s]"
     ]
    },
    {
     "name": "stdout",
     "output_type": "stream",
     "text": [
      "\n",
      "游戏名称: World of Warcraft 找到 1 个结果:\n",
      "  1. World of Warcraft - 发布日期: 2004-11\n"
     ]
    },
    {
     "name": "stderr",
     "output_type": "stream",
     "text": [
      "测试游戏:  14%|█▍        | 7/50 [00:04<00:25,  1.70it/s]"
     ]
    },
    {
     "name": "stdout",
     "output_type": "stream",
     "text": [
      "\n",
      "游戏名称: Z1: Battle Royale 找到 1 个结果:\n",
      "  1. Z1: Battle Royale - 发布日期: 2018-02\n"
     ]
    },
    {
     "name": "stderr",
     "output_type": "stream",
     "text": [
      "测试游戏:  18%|█▊        | 9/50 [00:05<00:28,  1.44it/s]"
     ]
    },
    {
     "name": "stdout",
     "output_type": "stream",
     "text": [
      "\n",
      "游戏名称: FIFA 16 找到 3 个结果:\n",
      "  1. FIFA 16 - 发布日期: 2015-09\n",
      "  2. FIFA 16 - 发布日期: 2015-09\n",
      "  3. FIFA 16 - 发布日期: 2015-09\n"
     ]
    },
    {
     "name": "stderr",
     "output_type": "stream",
     "text": [
      "测试游戏:  20%|██        | 10/50 [00:06<00:26,  1.53it/s]"
     ]
    },
    {
     "name": "stdout",
     "output_type": "stream",
     "text": [
      "\n",
      "游戏名称: StarCraft II 找到 5 个结果:\n",
      "  1. StarCraft II: Wings of Liberty - 发布日期: 2010-07\n",
      "  2. StarCraft II: Heart of the Swarm - 发布日期: 2013-03\n",
      "  3. StarCraft II: Legacy of the Void - 发布日期: 2015-11\n",
      "  4. StarCraft II: Trilogy - 发布日期: 2015-12\n",
      "  5. StarCraft II: Battle Chest - 发布日期: 2016-11\n"
     ]
    },
    {
     "name": "stderr",
     "output_type": "stream",
     "text": [
      "测试游戏:  22%|██▏       | 11/50 [00:07<00:27,  1.40it/s]"
     ]
    },
    {
     "name": "stdout",
     "output_type": "stream",
     "text": [
      "\n",
      "游戏名称: Diablo III 找到 1 个结果:\n",
      "  1. Diablo III - 发布日期: 2012-05\n"
     ]
    },
    {
     "name": "stderr",
     "output_type": "stream",
     "text": [
      "测试游戏:  24%|██▍       | 12/50 [00:07<00:25,  1.50it/s]"
     ]
    },
    {
     "name": "stdout",
     "output_type": "stream",
     "text": [
      "\n",
      "游戏名称: Destiny 找到 3 个结果:\n",
      "  1. Destiny - 发布日期: 1985-12\n",
      "  2. Destiny - 发布日期: 1996-12\n",
      "  3. Destiny - 发布日期: 2014-09\n"
     ]
    },
    {
     "name": "stderr",
     "output_type": "stream",
     "text": [
      "测试游戏:  26%|██▌       | 13/50 [00:08<00:23,  1.60it/s]"
     ]
    },
    {
     "name": "stdout",
     "output_type": "stream",
     "text": [
      "\n",
      "游戏名称: Blade & Soul 找到 1 个结果:\n",
      "  1. Blade & Soul - 发布日期: 2012-06\n"
     ]
    },
    {
     "name": "stderr",
     "output_type": "stream",
     "text": [
      "测试游戏:  28%|██▊       | 14/50 [00:08<00:21,  1.68it/s]"
     ]
    },
    {
     "name": "stdout",
     "output_type": "stream",
     "text": [
      "\n",
      "游戏名称: World of Tanks 找到 1 个结果:\n",
      "  1. World of Tanks - 发布日期: 2011-04\n"
     ]
    },
    {
     "name": "stderr",
     "output_type": "stream",
     "text": [
      "测试游戏:  30%|███       | 15/50 [00:09<00:20,  1.69it/s]"
     ]
    },
    {
     "name": "stdout",
     "output_type": "stream",
     "text": [
      "\n",
      "游戏名称: Tom Clancy's Rainbow Six Siege 找到 1 个结果:\n",
      "  1. Tom Clancy's Rainbow Six Siege - 发布日期: 2015-12\n"
     ]
    },
    {
     "name": "stderr",
     "output_type": "stream",
     "text": [
      "测试游戏:  32%|███▏      | 16/50 [00:09<00:19,  1.72it/s]"
     ]
    },
    {
     "name": "stdout",
     "output_type": "stream",
     "text": [
      "\n",
      "游戏名称: RuneScape 找到 1 个结果:\n",
      "  1. RuneScape - 发布日期: 2001-01\n"
     ]
    },
    {
     "name": "stderr",
     "output_type": "stream",
     "text": [
      "测试游戏:  34%|███▍      | 17/50 [00:10<00:18,  1.77it/s]"
     ]
    },
    {
     "name": "stdout",
     "output_type": "stream",
     "text": [
      "\n",
      "游戏名称: Tom Clancy's The Division 找到 1 个结果:\n",
      "  1. Tom Clancy's The Division - 发布日期: 2016-03\n"
     ]
    },
    {
     "name": "stderr",
     "output_type": "stream",
     "text": [
      "测试游戏:  36%|███▌      | 18/50 [00:10<00:18,  1.77it/s]"
     ]
    },
    {
     "name": "stdout",
     "output_type": "stream",
     "text": [
      "\n",
      "游戏名称: Grand Theft Auto V 找到 3 个结果:\n",
      "  1. Grand Theft Auto V - 发布日期: 2022-06\n",
      "  2. Grand Theft Auto V - 发布日期: 2013-09\n",
      "  3. Grand Theft Auto V - 发布日期: 2022-04\n"
     ]
    },
    {
     "name": "stderr",
     "output_type": "stream",
     "text": [
      "测试游戏:  38%|███▊      | 19/50 [00:11<00:17,  1.77it/s]"
     ]
    },
    {
     "name": "stdout",
     "output_type": "stream",
     "text": [
      "\n",
      "游戏名称: SMITE 找到 5 个结果:\n",
      "  1. Smite - 发布日期: 2014-03\n",
      "  2. Smite 2 - 发布日期: 2024-08\n",
      "  3. Smite Blitz - 发布日期: Unknown\n",
      "  4. Smite Rivals - 发布日期: Unknown\n",
      "  5. Smite Tactics - 发布日期: Unknown\n"
     ]
    },
    {
     "name": "stderr",
     "output_type": "stream",
     "text": [
      "测试游戏:  40%|████      | 20/50 [00:12<00:20,  1.47it/s]"
     ]
    },
    {
     "name": "stdout",
     "output_type": "stream",
     "text": [
      "\n",
      "游戏名称: Creative 找到 5 个结果:\n",
      "  1. Creative Runner - 发布日期: 2020-03\n",
      "  2. Creative Console - 发布日期: 2023-01\n",
      "  3. Hamidashi Creative - 发布日期: 2021-06\n",
      "  4. Creative Kill Chamber - 发布日期: 2010-10\n",
      "  5. Creative Contraptions - 发布日期: 1985-01\n"
     ]
    },
    {
     "name": "stderr",
     "output_type": "stream",
     "text": [
      "测试游戏:  42%|████▏     | 21/50 [00:13<00:21,  1.37it/s]"
     ]
    },
    {
     "name": "stdout",
     "output_type": "stream",
     "text": [
      "\n",
      "游戏名称: Poker 找到 5 个结果:\n",
      "  1. HD Poker - 发布日期: 2018-09\n",
      "  2. Jacks or Better Video Poker - 发布日期: 2024-02\n",
      "  3. Poker 1 - 发布日期: Unknown\n",
      "  4. Strip Poker Three - 发布日期: 1991-12\n",
      "  5. Poker Poker Magic - 发布日期: 2024-06\n"
     ]
    },
    {
     "name": "stderr",
     "output_type": "stream",
     "text": [
      "测试游戏:  44%|████▍     | 22/50 [00:14<00:21,  1.32it/s]"
     ]
    },
    {
     "name": "stdout",
     "output_type": "stream",
     "text": [
      "\n",
      "游戏名称: Super Mario Maker 找到 1 个结果:\n",
      "  1. Super Mario Maker - 发布日期: 2015-09\n"
     ]
    },
    {
     "name": "stderr",
     "output_type": "stream",
     "text": [
      "测试游戏:  46%|████▌     | 23/50 [00:14<00:18,  1.44it/s]"
     ]
    },
    {
     "name": "stdout",
     "output_type": "stream",
     "text": [
      "\n",
      "游戏名称: Heroes of the Storm 找到 1 个结果:\n",
      "  1. Heroes of the Storm - 发布日期: 2015-06\n"
     ]
    },
    {
     "name": "stderr",
     "output_type": "stream",
     "text": [
      "测试游戏:  48%|████▊     | 24/50 [00:15<00:17,  1.52it/s]"
     ]
    },
    {
     "name": "stdout",
     "output_type": "stream",
     "text": [
      "\n",
      "游戏名称: Darkest Dungeon 找到 1 个结果:\n",
      "  1. Darkest Dungeon - 发布日期: 2016-01\n"
     ]
    },
    {
     "name": "stderr",
     "output_type": "stream",
     "text": [
      "测试游戏:  50%|█████     | 25/50 [00:15<00:15,  1.59it/s]"
     ]
    },
    {
     "name": "stdout",
     "output_type": "stream",
     "text": [
      "\n",
      "游戏名称: Arma 3 找到 1 个结果:\n",
      "  1. Arma 3 - 发布日期: 2013-09\n"
     ]
    },
    {
     "name": "stderr",
     "output_type": "stream",
     "text": [
      "测试游戏:  52%|█████▏    | 26/50 [00:16<00:14,  1.65it/s]"
     ]
    },
    {
     "name": "stdout",
     "output_type": "stream",
     "text": [
      "\n",
      "游戏名称: DayZ 找到 1 个结果:\n",
      "  1. DayZ - 发布日期: 2018-12\n"
     ]
    },
    {
     "name": "stderr",
     "output_type": "stream",
     "text": [
      "测试游戏:  54%|█████▍    | 27/50 [00:16<00:13,  1.68it/s]"
     ]
    },
    {
     "name": "stdout",
     "output_type": "stream",
     "text": [
      "\n",
      "游戏名称: NBA 2K16 找到 1 个结果:\n",
      "  1. NBA 2K16 - 发布日期: 2015-09\n"
     ]
    },
    {
     "name": "stderr",
     "output_type": "stream",
     "text": [
      "测试游戏:  56%|█████▌    | 28/50 [00:17<00:12,  1.72it/s]"
     ]
    },
    {
     "name": "stdout",
     "output_type": "stream",
     "text": [
      "\n",
      "游戏名称: Magic: The Gathering 找到 2 个结果:\n",
      "  1. Magic: The Gathering - 发布日期: 1997-03\n",
      "  2. Magic: The Gathering - 发布日期: 2001-12\n"
     ]
    },
    {
     "name": "stderr",
     "output_type": "stream",
     "text": [
      "测试游戏:  58%|█████▊    | 29/50 [00:18<00:12,  1.75it/s]"
     ]
    },
    {
     "name": "stdout",
     "output_type": "stream",
     "text": [
      "\n",
      "游戏名称: Ark: Survival Evolved 找到 1 个结果:\n",
      "  1. Ark: Survival Evolved - 发布日期: 2017-08\n"
     ]
    },
    {
     "name": "stderr",
     "output_type": "stream",
     "text": [
      "测试游戏:  60%|██████    | 30/50 [00:18<00:11,  1.72it/s]"
     ]
    },
    {
     "name": "stdout",
     "output_type": "stream",
     "text": [
      "\n",
      "游戏名称: Halo 5: Guardians 找到 1 个结果:\n",
      "  1. Halo 5: Guardians - 发布日期: 2015-10\n"
     ]
    },
    {
     "name": "stderr",
     "output_type": "stream",
     "text": [
      "测试游戏:  62%|██████▏   | 31/50 [00:19<00:10,  1.75it/s]"
     ]
    },
    {
     "name": "stdout",
     "output_type": "stream",
     "text": [
      "\n",
      "游戏名称: Super Smash Bros. Melee 找到 1 个结果:\n",
      "  1. Super Smash Bros. Melee - 发布日期: 2001-11\n"
     ]
    },
    {
     "name": "stderr",
     "output_type": "stream",
     "text": [
      "测试游戏:  64%|██████▍   | 32/50 [00:19<00:10,  1.78it/s]"
     ]
    },
    {
     "name": "stdout",
     "output_type": "stream",
     "text": [
      "\n",
      "游戏名称: Music 找到 5 个结果:\n",
      "  1. Music: Music Creation for the PlayStation - 发布日期: 1998-11\n",
      "  2. Uta no Prince-sama: Music - 发布日期: 2011-11\n",
      "  3. Uta no Prince-sama: Music 3 - 发布日期: 2016-01\n",
      "  4. Uta no Prince-sama: Music 2 - 发布日期: 2013-09\n",
      "  5. Touhou Spell Bubble: Shinra-Bansho Music Pack - 发布日期: 2020-08\n"
     ]
    },
    {
     "name": "stderr",
     "output_type": "stream",
     "text": [
      "测试游戏:  66%|██████▌   | 33/50 [00:20<00:11,  1.53it/s]"
     ]
    },
    {
     "name": "stdout",
     "output_type": "stream",
     "text": [
      "\n",
      "游戏名称: Super Smash Bros. for Wii U 找到 1 个结果:\n",
      "  1. Super Smash Bros. for Wii U - 发布日期: 2014-11\n"
     ]
    },
    {
     "name": "stderr",
     "output_type": "stream",
     "text": [
      "测试游戏:  68%|██████▊   | 34/50 [00:21<00:09,  1.65it/s]"
     ]
    },
    {
     "name": "stdout",
     "output_type": "stream",
     "text": [
      "\n",
      "游戏名称: Path of Exile 找到 1 个结果:\n",
      "  1. Path of Exile - 发布日期: 2013-10\n"
     ]
    },
    {
     "name": "stderr",
     "output_type": "stream",
     "text": [
      "测试游戏:  70%|███████   | 35/50 [00:21<00:08,  1.71it/s]"
     ]
    },
    {
     "name": "stdout",
     "output_type": "stream",
     "text": [
      "\n",
      "游戏名称: Fallout 4 找到 1 个结果:\n",
      "  1. Fallout 4 - 发布日期: 2015-11\n"
     ]
    },
    {
     "name": "stderr",
     "output_type": "stream",
     "text": [
      "测试游戏:  72%|███████▏  | 36/50 [00:22<00:08,  1.70it/s]"
     ]
    },
    {
     "name": "stdout",
     "output_type": "stream",
     "text": [
      "\n",
      "游戏名称: Rocket League 找到 1 个结果:\n",
      "  1. Rocket League - 发布日期: 2015-07\n"
     ]
    },
    {
     "name": "stderr",
     "output_type": "stream",
     "text": [
      "测试游戏:  74%|███████▍  | 37/50 [00:22<00:07,  1.76it/s]"
     ]
    },
    {
     "name": "stdout",
     "output_type": "stream",
     "text": [
      "\n",
      "游戏名称: Dragon's Dogma: Dark Arisen 找到 1 个结果:\n",
      "  1. Dragon's Dogma: Dark Arisen - 发布日期: 2013-04\n"
     ]
    },
    {
     "name": "stderr",
     "output_type": "stream",
     "text": [
      "测试游戏:  76%|███████▌  | 38/50 [00:23<00:07,  1.68it/s]"
     ]
    },
    {
     "name": "stdout",
     "output_type": "stream",
     "text": [
      "\n",
      "游戏名称: The Legend of Zelda: Ocarina of Time 找到 1 个结果:\n",
      "  1. The Legend of Zelda: Ocarina of Time - 发布日期: 1998-11\n"
     ]
    },
    {
     "name": "stderr",
     "output_type": "stream",
     "text": [
      "测试游戏:  78%|███████▊  | 39/50 [00:23<00:06,  1.69it/s]"
     ]
    },
    {
     "name": "stdout",
     "output_type": "stream",
     "text": [
      "\n",
      "游戏名称: Punch Club 找到 1 个结果:\n",
      "  1. Punch Club - 发布日期: 2016-01\n"
     ]
    },
    {
     "name": "stderr",
     "output_type": "stream",
     "text": [
      "测试游戏:  80%|████████  | 40/50 [00:24<00:05,  1.70it/s]"
     ]
    },
    {
     "name": "stdout",
     "output_type": "stream",
     "text": [
      "\n",
      "游戏名称: The Binding of Isaac: Repentance 找到 3 个结果:\n",
      "  1. The Binding of Isaac: Repentance - 发布日期: 2021-03\n",
      "  2. The Binding of Isaac: Repentance - 发布日期: 2021-03\n",
      "  3. The Binding of Isaac: Repentance - 发布日期: 2021-11\n"
     ]
    },
    {
     "name": "stderr",
     "output_type": "stream",
     "text": [
      "测试游戏:  82%|████████▏ | 41/50 [00:25<00:05,  1.71it/s]"
     ]
    },
    {
     "name": "stdout",
     "output_type": "stream",
     "text": [
      "\n",
      "游戏名称: Rust 找到 2 个结果:\n",
      "  1. Rust - 发布日期: 2024-04\n",
      "  2. Rust - 发布日期: 2018-02\n"
     ]
    },
    {
     "name": "stderr",
     "output_type": "stream",
     "text": [
      "测试游戏:  84%|████████▍ | 42/50 [00:25<00:04,  1.76it/s]"
     ]
    },
    {
     "name": "stdout",
     "output_type": "stream",
     "text": [
      "\n",
      "游戏名称: Bloodborne 找到 1 个结果:\n",
      "  1. Bloodborne - 发布日期: 2015-03\n"
     ]
    },
    {
     "name": "stderr",
     "output_type": "stream",
     "text": [
      "测试游戏:  86%|████████▌ | 43/50 [00:26<00:03,  1.76it/s]"
     ]
    },
    {
     "name": "stdout",
     "output_type": "stream",
     "text": [
      "\n",
      "游戏名称: The Elder Scrolls V: Skyrim 找到 2 个结果:\n",
      "  1. The Elder Scrolls V: Skyrim - 发布日期: 2011-11\n",
      "  2. The Elder Scrolls V: Skyrim - 发布日期: 2017-11\n"
     ]
    },
    {
     "name": "stderr",
     "output_type": "stream",
     "text": [
      "测试游戏:  88%|████████▊ | 44/50 [00:26<00:03,  1.78it/s]"
     ]
    },
    {
     "name": "stdout",
     "output_type": "stream",
     "text": [
      "\n",
      "游戏名称: Madden NFL 16 找到 2 个结果:\n",
      "  1. Madden NFL 16 - 发布日期: 2015-08\n",
      "  2. Madden NFL 16 - 发布日期: 2015-08\n"
     ]
    },
    {
     "name": "stderr",
     "output_type": "stream",
     "text": [
      "测试游戏:  90%|█████████ | 45/50 [00:27<00:02,  1.82it/s]"
     ]
    },
    {
     "name": "stdout",
     "output_type": "stream",
     "text": [
      "\n",
      "游戏名称: Dark Souls 找到 1 个结果:\n",
      "  1. Dark Souls - 发布日期: 2011-09\n"
     ]
    },
    {
     "name": "stderr",
     "output_type": "stream",
     "text": [
      "测试游戏:  92%|█████████▏| 46/50 [00:27<00:02,  1.85it/s]"
     ]
    },
    {
     "name": "stdout",
     "output_type": "stream",
     "text": [
      "\n",
      "游戏名称: XCOM: Enemy Within 找到 2 个结果:\n",
      "  1. XCOM: Enemy Within - 发布日期: 2013-11\n",
      "  2. XCOM: Enemy Within - 发布日期: 2013-11\n"
     ]
    },
    {
     "name": "stderr",
     "output_type": "stream",
     "text": [
      "测试游戏:  94%|█████████▍| 47/50 [00:28<00:01,  1.85it/s]"
     ]
    },
    {
     "name": "stdout",
     "output_type": "stream",
     "text": [
      "\n",
      "游戏名称: Lineage II: The Chaotic Throne - The 1st Throne: The Kamael 找到 1 个结果:\n",
      "  1. Lineage II: The Chaotic Throne - The 1st Throne: The Kamael - 发布日期: Unknown\n"
     ]
    },
    {
     "name": "stderr",
     "output_type": "stream",
     "text": [
      "测试游戏:  96%|█████████▌| 48/50 [00:28<00:01,  1.83it/s]"
     ]
    },
    {
     "name": "stdout",
     "output_type": "stream",
     "text": [
      "\n",
      "游戏名称: Euro Truck Simulator 2 找到 1 个结果:\n",
      "  1. Euro Truck Simulator 2 - 发布日期: 2012-10\n"
     ]
    },
    {
     "name": "stderr",
     "output_type": "stream",
     "text": [
      "测试游戏:  98%|█████████▊| 49/50 [00:29<00:00,  1.80it/s]"
     ]
    },
    {
     "name": "stdout",
     "output_type": "stream",
     "text": [
      "\n",
      "游戏名称: The Legend of Zelda: Majora's Mask 找到 1 个结果:\n",
      "  1. The Legend of Zelda: Majora's Mask - 发布日期: 2000-04\n"
     ]
    },
    {
     "name": "stderr",
     "output_type": "stream",
     "text": [
      "测试游戏: 100%|██████████| 50/50 [00:30<00:00,  1.66it/s]"
     ]
    },
    {
     "name": "stdout",
     "output_type": "stream",
     "text": [
      "测试完成，结果已保存至 test_first_50_games.csv\n",
      "\n",
      "测试结果摘要:\n",
      "                               Game Release Year Release Month  \\\n",
      "0                 League of Legends         2009            10   \n",
      "1  Counter-Strike: Global Offensive         2012            08   \n",
      "2                            Dota 2         2013            07   \n",
      "3                       Hearthstone         2014            03   \n",
      "4       Call of Duty: Black Ops III         2015            11   \n",
      "5                         Minecraft         2016            12   \n",
      "6                 World of Warcraft         2004            11   \n",
      "7                 Z1: Battle Royale         2018            02   \n",
      "8             Talk Shows & Podcasts      Unknown       Unknown   \n",
      "9                           FIFA 16         2015            09   \n",
      "\n",
      "                  Game Name in IGDB  \n",
      "0                 League of Legends  \n",
      "1  Counter-Strike: Global Offensive  \n",
      "2                            Dota 2  \n",
      "3                       Hearthstone  \n",
      "4       Call of Duty: Black Ops III  \n",
      "5                         Minecraft  \n",
      "6                 World of Warcraft  \n",
      "7                 Z1: Battle Royale  \n",
      "8                         Not Found  \n",
      "9                           FIFA 16  \n",
      "\n",
      "总共测试了 50 个游戏，其中 2 个没有找到发行日期 (4.0%)\n"
     ]
    },
    {
     "name": "stderr",
     "output_type": "stream",
     "text": [
      "\n"
     ]
    }
   ],
   "source": [
    "import requests\n",
    "import pandas as pd\n",
    "import time\n",
    "import re\n",
    "from tqdm import tqdm\n",
    "\n",
    "# IGDB API 凭据\n",
    "CLIENT_ID = \"e1cvubjaunqp8g8rhyxmuog7ld4tsy\"\n",
    "CLIENT_SECRET = \"tnettt8ysiuybxxi1g8dlkzlwbzice\"\n",
    "\n",
    "# 获取 OAuth 令牌\n",
    "def get_access_token():\n",
    "    url = \"https://id.twitch.tv/oauth2/token\"\n",
    "    params = {\n",
    "        \"client_id\": CLIENT_ID,\n",
    "        \"client_secret\": CLIENT_SECRET,\n",
    "        \"grant_type\": \"client_credentials\"\n",
    "    }\n",
    "    response = requests.post(url, params=params)\n",
    "    response.raise_for_status()\n",
    "    return response.json()[\"access_token\"]\n",
    "\n",
    "# 查询 IGDB API 获取游戏信息\n",
    "def get_game_info(access_token, game_name):\n",
    "    url = \"https://api.igdb.com/v4/games\"\n",
    "    headers = {\n",
    "        \"Client-ID\": CLIENT_ID,\n",
    "        \"Authorization\": f\"Bearer {access_token}\",\n",
    "        \"Accept\": \"application/json\"\n",
    "    }\n",
    "    \n",
    "    # 首先尝试精确匹配\n",
    "    data = f'fields name, genres.name, first_release_date; where name = \"{game_name}\"; limit 5;'\n",
    "    response = requests.post(url, headers=headers, data=data)\n",
    "    response.raise_for_status()\n",
    "    results = response.json()\n",
    "    \n",
    "    # 如果没有精确匹配结果，使用搜索功能\n",
    "    if not results:\n",
    "        data = f'fields name, genres.name, first_release_date; search \"{game_name}\"; limit 5;'\n",
    "        response = requests.post(url, headers=headers, data=data)\n",
    "        response.raise_for_status()\n",
    "        results = response.json()\n",
    "    \n",
    "    if results:\n",
    "        # 输出所有返回的结果，用于调试\n",
    "        print(f\"\\n游戏名称: {game_name} 找到 {len(results)} 个结果:\")\n",
    "        for i, game in enumerate(results):\n",
    "            release_date = game.get(\"first_release_date\")\n",
    "            release_str = time.strftime('%Y-%m', time.gmtime(release_date)) if release_date else \"Unknown\"\n",
    "            print(f\"  {i+1}. {game['name']} - 发布日期: {release_str}\")\n",
    "        \n",
    "        # 保留第一个结果作为最佳匹配\n",
    "        game = results[0]\n",
    "        genres = game.get(\"genres\", [])\n",
    "        genre_names = \", \".join([genre[\"name\"] for genre in genres]) if genres else \"Unknown\"\n",
    "        release_date = game.get(\"first_release_date\")\n",
    "        \n",
    "        if release_date:\n",
    "            release_year = time.strftime('%Y', time.gmtime(release_date))\n",
    "            release_month = time.strftime('%m', time.gmtime(release_date))\n",
    "            return {\n",
    "                \"Genre\": genre_names, \n",
    "                \"Release Year\": release_year,\n",
    "                \"Release Month\": release_month,\n",
    "                \"Game Name in IGDB\": game[\"name\"]\n",
    "            }\n",
    "    \n",
    "    return {\n",
    "        \"Genre\": \"Unknown\", \n",
    "        \"Release Year\": \"Unknown\",\n",
    "        \"Release Month\": \"Unknown\",\n",
    "        \"Game Name in IGDB\": \"Not Found\"\n",
    "    }\n",
    "\n",
    "# 主函数：测试前50个游戏\n",
    "def test_first_50_games():\n",
    "    # 读取唯一游戏列表\n",
    "    unique_games_path = \"unique_games.csv\"\n",
    "    try:\n",
    "        df_games = pd.read_csv(unique_games_path, encoding='UTF-8')\n",
    "    except UnicodeDecodeError:\n",
    "        df_games = pd.read_csv(unique_games_path, encoding='ISO-8859-1')\n",
    "    \n",
    "    # 获取前50个游戏\n",
    "    test_games = df_games[\"Game\"].head(50).tolist()\n",
    "    \n",
    "    # 获取访问令牌\n",
    "    print(\"获取API访问令牌...\")\n",
    "    access_token = get_access_token()\n",
    "    \n",
    "    # 测试前50个游戏\n",
    "    print(\"测试前50个游戏的信息获取...\")\n",
    "    test_results = []\n",
    "    \n",
    "    for game in tqdm(test_games, desc=\"测试游戏\"):\n",
    "        info = get_game_info(access_token, game)\n",
    "        test_results.append({\n",
    "            \"Game\": game,\n",
    "            \"Genre\": info[\"Genre\"],\n",
    "            \"Release Year\": info[\"Release Year\"],\n",
    "            \"Release Month\": info[\"Release Month\"],\n",
    "            \"Game Name in IGDB\": info[\"Game Name in IGDB\"]\n",
    "        })\n",
    "        time.sleep(0.3)  # 防止API限制\n",
    "        \n",
    "    df_test = pd.DataFrame(test_results)\n",
    "    df_test.to_csv(\"test_first_50_games.csv\", index=False, encoding='UTF-8')\n",
    "    print(\"测试完成，结果已保存至 test_first_50_games.csv\")\n",
    "    \n",
    "    # 显示测试结果摘要\n",
    "    print(\"\\n测试结果摘要:\")\n",
    "    print(df_test[[\"Game\", \"Release Year\", \"Release Month\", \"Game Name in IGDB\"]].head(10))\n",
    "    \n",
    "    unknown_count = sum(df_test[\"Release Year\"] == \"Unknown\")\n",
    "    print(f\"\\n总共测试了 {len(df_test)} 个游戏，其中 {unknown_count} 个没有找到发行日期 ({unknown_count/len(df_test)*100:.1f}%)\")\n",
    "\n",
    "if __name__ == \"__main__\":\n",
    "    test_first_50_games()"
   ]
  },
  {
   "cell_type": "code",
   "execution_count": null,
   "metadata": {},
   "outputs": [
    {
     "name": "stdout",
     "output_type": "stream",
     "text": [
      "获取API访问令牌...\n",
      "开始处理全部 2360 个游戏...\n"
     ]
    },
    {
     "name": "stderr",
     "output_type": "stream",
     "text": [
      "获取游戏信息:   4%|▍         | 100/2360 [01:10<27:25,  1.37it/s]"
     ]
    },
    {
     "name": "stdout",
     "output_type": "stream",
     "text": [
      "\n",
      "已处理 100 个游戏，临时保存结果\n"
     ]
    },
    {
     "name": "stderr",
     "output_type": "stream",
     "text": [
      "获取游戏信息:   8%|▊         | 200/2360 [02:19<23:24,  1.54it/s]"
     ]
    },
    {
     "name": "stdout",
     "output_type": "stream",
     "text": [
      "\n",
      "已处理 200 个游戏，临时保存结果\n"
     ]
    },
    {
     "name": "stderr",
     "output_type": "stream",
     "text": [
      "获取游戏信息:  13%|█▎        | 300/2360 [03:31<22:09,  1.55it/s]"
     ]
    },
    {
     "name": "stdout",
     "output_type": "stream",
     "text": [
      "\n",
      "已处理 300 个游戏，临时保存结果\n"
     ]
    },
    {
     "name": "stderr",
     "output_type": "stream",
     "text": [
      "获取游戏信息:  17%|█▋        | 400/2360 [04:42<20:08,  1.62it/s]"
     ]
    },
    {
     "name": "stdout",
     "output_type": "stream",
     "text": [
      "\n",
      "已处理 400 个游戏，临时保存结果\n"
     ]
    },
    {
     "name": "stderr",
     "output_type": "stream",
     "text": [
      "获取游戏信息:  21%|██        | 500/2360 [05:54<19:30,  1.59it/s]"
     ]
    },
    {
     "name": "stdout",
     "output_type": "stream",
     "text": [
      "\n",
      "已处理 500 个游戏，临时保存结果\n"
     ]
    },
    {
     "name": "stderr",
     "output_type": "stream",
     "text": [
      "获取游戏信息:  25%|██▌       | 600/2360 [07:05<23:06,  1.27it/s]"
     ]
    },
    {
     "name": "stdout",
     "output_type": "stream",
     "text": [
      "\n",
      "已处理 600 个游戏，临时保存结果\n"
     ]
    },
    {
     "name": "stderr",
     "output_type": "stream",
     "text": [
      "获取游戏信息:  30%|██▉       | 700/2360 [08:14<17:37,  1.57it/s]"
     ]
    },
    {
     "name": "stdout",
     "output_type": "stream",
     "text": [
      "\n",
      "已处理 700 个游戏，临时保存结果\n"
     ]
    },
    {
     "name": "stderr",
     "output_type": "stream",
     "text": [
      "获取游戏信息:  34%|███▍      | 800/2360 [09:25<17:48,  1.46it/s]"
     ]
    },
    {
     "name": "stdout",
     "output_type": "stream",
     "text": [
      "\n",
      "已处理 800 个游戏，临时保存结果\n"
     ]
    },
    {
     "name": "stderr",
     "output_type": "stream",
     "text": [
      "获取游戏信息:  38%|███▊      | 900/2360 [10:33<16:07,  1.51it/s]"
     ]
    },
    {
     "name": "stdout",
     "output_type": "stream",
     "text": [
      "\n",
      "已处理 900 个游戏，临时保存结果\n"
     ]
    },
    {
     "name": "stderr",
     "output_type": "stream",
     "text": [
      "获取游戏信息:  42%|████▏     | 1000/2360 [11:41<16:25,  1.38it/s]"
     ]
    },
    {
     "name": "stdout",
     "output_type": "stream",
     "text": [
      "\n",
      "已处理 1000 个游戏，临时保存结果\n"
     ]
    },
    {
     "name": "stderr",
     "output_type": "stream",
     "text": [
      "获取游戏信息:  47%|████▋     | 1100/2360 [12:51<14:18,  1.47it/s]"
     ]
    },
    {
     "name": "stdout",
     "output_type": "stream",
     "text": [
      "\n",
      "已处理 1100 个游戏，临时保存结果\n"
     ]
    },
    {
     "name": "stderr",
     "output_type": "stream",
     "text": [
      "获取游戏信息:  51%|█████     | 1200/2360 [14:02<13:04,  1.48it/s]"
     ]
    },
    {
     "name": "stdout",
     "output_type": "stream",
     "text": [
      "\n",
      "已处理 1200 个游戏，临时保存结果\n"
     ]
    },
    {
     "name": "stderr",
     "output_type": "stream",
     "text": [
      "获取游戏信息:  52%|█████▏    | 1218/2360 [14:14<15:42,  1.21it/s]"
     ]
    },
    {
     "name": "stdout",
     "output_type": "stream",
     "text": [
      "\n",
      "处理游戏 'nan' 时出错: expected string or bytes-like object, got 'float'\n"
     ]
    },
    {
     "name": "stderr",
     "output_type": "stream",
     "text": [
      "获取游戏信息:  55%|█████▌    | 1300/2360 [15:15<11:54,  1.48it/s]"
     ]
    },
    {
     "name": "stdout",
     "output_type": "stream",
     "text": [
      "\n",
      "已处理 1300 个游戏，临时保存结果\n"
     ]
    },
    {
     "name": "stderr",
     "output_type": "stream",
     "text": [
      "获取游戏信息:  59%|█████▉    | 1400/2360 [16:25<11:32,  1.39it/s]"
     ]
    },
    {
     "name": "stdout",
     "output_type": "stream",
     "text": [
      "\n",
      "已处理 1400 个游戏，临时保存结果\n"
     ]
    },
    {
     "name": "stderr",
     "output_type": "stream",
     "text": [
      "获取游戏信息:  64%|██████▎   | 1500/2360 [17:34<09:12,  1.56it/s]"
     ]
    },
    {
     "name": "stdout",
     "output_type": "stream",
     "text": [
      "\n",
      "已处理 1500 个游戏，临时保存结果\n"
     ]
    },
    {
     "name": "stderr",
     "output_type": "stream",
     "text": [
      "获取游戏信息:  68%|██████▊   | 1600/2360 [18:46<08:03,  1.57it/s]"
     ]
    },
    {
     "name": "stdout",
     "output_type": "stream",
     "text": [
      "\n",
      "已处理 1600 个游戏，临时保存结果\n"
     ]
    },
    {
     "name": "stderr",
     "output_type": "stream",
     "text": [
      "获取游戏信息:  72%|███████▏  | 1700/2360 [19:57<08:34,  1.28it/s]"
     ]
    },
    {
     "name": "stdout",
     "output_type": "stream",
     "text": [
      "\n",
      "已处理 1700 个游戏，临时保存结果\n"
     ]
    },
    {
     "name": "stderr",
     "output_type": "stream",
     "text": [
      "获取游戏信息:  76%|███████▋  | 1800/2360 [21:08<05:43,  1.63it/s]"
     ]
    },
    {
     "name": "stdout",
     "output_type": "stream",
     "text": [
      "\n",
      "已处理 1800 个游戏，临时保存结果\n"
     ]
    },
    {
     "name": "stderr",
     "output_type": "stream",
     "text": [
      "获取游戏信息:  81%|████████  | 1900/2360 [22:15<05:12,  1.47it/s]"
     ]
    },
    {
     "name": "stdout",
     "output_type": "stream",
     "text": [
      "\n",
      "已处理 1900 个游戏，临时保存结果\n"
     ]
    },
    {
     "name": "stderr",
     "output_type": "stream",
     "text": [
      "获取游戏信息:  85%|████████▍ | 2000/2360 [23:23<04:34,  1.31it/s]"
     ]
    },
    {
     "name": "stdout",
     "output_type": "stream",
     "text": [
      "\n",
      "已处理 2000 个游戏，临时保存结果\n"
     ]
    },
    {
     "name": "stderr",
     "output_type": "stream",
     "text": [
      "获取游戏信息:  89%|████████▉ | 2100/2360 [24:35<03:28,  1.25it/s]"
     ]
    },
    {
     "name": "stdout",
     "output_type": "stream",
     "text": [
      "\n",
      "已处理 2100 个游戏，临时保存结果\n"
     ]
    },
    {
     "name": "stderr",
     "output_type": "stream",
     "text": [
      "获取游戏信息:  93%|█████████▎| 2200/2360 [25:45<01:56,  1.37it/s]"
     ]
    },
    {
     "name": "stdout",
     "output_type": "stream",
     "text": [
      "\n",
      "已处理 2200 个游戏，临时保存结果\n"
     ]
    },
    {
     "name": "stderr",
     "output_type": "stream",
     "text": [
      "获取游戏信息:  97%|█████████▋| 2300/2360 [26:56<00:37,  1.62it/s]"
     ]
    },
    {
     "name": "stdout",
     "output_type": "stream",
     "text": [
      "\n",
      "已处理 2300 个游戏，临时保存结果\n"
     ]
    },
    {
     "name": "stderr",
     "output_type": "stream",
     "text": [
      "获取游戏信息: 100%|██████████| 2360/2360 [27:38<00:00,  1.42it/s]"
     ]
    },
    {
     "name": "stdout",
     "output_type": "stream",
     "text": [
      "处理完成，文件已保存至 game_info_full.csv\n",
      "\n",
      "处理统计:\n",
      "总游戏数: 2360\n",
      "有多个搜索结果的游戏: 397 (16.8%)\n",
      "未找到的游戏: 144 (6.1%)\n",
      "处理出错的游戏: 1 (0.0%)\n",
      "处理完成！\n"
     ]
    },
    {
     "name": "stderr",
     "output_type": "stream",
     "text": [
      "\n"
     ]
    }
   ],
   "source": [
    "import requests\n",
    "import pandas as pd\n",
    "import time\n",
    "import re\n",
    "from tqdm import tqdm\n",
    "\n",
    "# IGDB API 凭据\n",
    "CLIENT_ID = \"e1cvubjaunqp8g8rhyxmuog7ld4tsy\"\n",
    "CLIENT_SECRET = \"tnettt8ysiuybxxi1g8dlkzlwbzice\"\n",
    "\n",
    "# 获取 OAuth 令牌\n",
    "def get_access_token():\n",
    "    url = \"https://id.twitch.tv/oauth2/token\"\n",
    "    params = {\n",
    "        \"client_id\": CLIENT_ID,\n",
    "        \"client_secret\": CLIENT_SECRET,\n",
    "        \"grant_type\": \"client_credentials\"\n",
    "    }\n",
    "    response = requests.post(url, params=params)\n",
    "    response.raise_for_status()\n",
    "    return response.json()[\"access_token\"]\n",
    "\n",
    "# 查询 IGDB API 获取游戏信息，使用更精确的查询，并返回多个搜索结果数量\n",
    "def get_game_info(access_token, game_name):\n",
    "    url = \"https://api.igdb.com/v4/games\"\n",
    "    headers = {\n",
    "        \"Client-ID\": CLIENT_ID,\n",
    "        \"Authorization\": f\"Bearer {access_token}\",\n",
    "        \"Accept\": \"application/json\"\n",
    "    }\n",
    "    \n",
    "    # 使用更精确的查询条件，并请求更多相关信息\n",
    "    # 首先尝试完全匹配\n",
    "    data = f'fields name, genres.name, first_release_date, rating, status, platforms.name; where name = \"{game_name}\"; limit 5;'\n",
    "    response = requests.post(url, headers=headers, data=data)\n",
    "    response.raise_for_status()\n",
    "    exact_results = response.json()\n",
    "    \n",
    "    # 如果没有完全匹配的结果，尝试模糊匹配\n",
    "    search_results = []\n",
    "    if not exact_results:\n",
    "        # 清理游戏名称，删除特殊字符\n",
    "        clean_name = re.sub(r'[^\\w\\s]', '', game_name)\n",
    "        data = f'fields name, genres.name, first_release_date, rating, status, platforms.name; search \"{clean_name}\"; limit 5;'\n",
    "        response = requests.post(url, headers=headers, data=data)\n",
    "        response.raise_for_status()\n",
    "        search_results = response.json()\n",
    "    \n",
    "    # 合并结果 - 如果有精确匹配，就用精确匹配；否则用搜索结果\n",
    "    results = exact_results if exact_results else search_results\n",
    "    results_count = len(results)\n",
    "    \n",
    "    if results:\n",
    "        # 选择评分最高或发布最早的游戏\n",
    "        best_match = None\n",
    "        highest_rating = -1\n",
    "        \n",
    "        for game in results:\n",
    "            # 确保名称相似度高\n",
    "            if game[\"name\"].lower() == game_name.lower() or game[\"name\"].lower() in game_name.lower() or game_name.lower() in game[\"name\"].lower():\n",
    "                rating = game.get(\"rating\", 0)\n",
    "                if rating > highest_rating:\n",
    "                    highest_rating = rating\n",
    "                    best_match = game\n",
    "        \n",
    "        # 如果没有找到好的匹配，选择第一个结果\n",
    "        if not best_match and results:\n",
    "            best_match = results[0]\n",
    "            \n",
    "        if best_match:\n",
    "            genres = best_match.get(\"genres\", [])\n",
    "            genre_names = \", \".join([genre[\"name\"] for genre in genres]) if genres else \"Unknown\"\n",
    "            release_date = best_match.get(\"first_release_date\")\n",
    "            \n",
    "            if release_date:\n",
    "                # 将Unix时间戳转换为年份和月份\n",
    "                release_year = time.strftime('%Y', time.gmtime(release_date))\n",
    "                release_month = time.strftime('%m', time.gmtime(release_date))\n",
    "                return {\n",
    "                    \"Genre\": genre_names, \n",
    "                    \"Release Year\": release_year,\n",
    "                    \"Release Month\": release_month,\n",
    "                    \"Game Name in IGDB\": best_match[\"name\"],\n",
    "                    \"Multiple Results\": \"是\" if results_count > 1 else \"否\",\n",
    "                    \"Results Count\": results_count\n",
    "                }\n",
    "    \n",
    "    return {\n",
    "        \"Genre\": \"Unknown\", \n",
    "        \"Release Year\": \"Unknown\",\n",
    "        \"Release Month\": \"Unknown\",\n",
    "        \"Game Name in IGDB\": \"Not Found\",\n",
    "        \"Multiple Results\": \"否\",\n",
    "        \"Results Count\": 0\n",
    "    }\n",
    "\n",
    "# 主函数：处理所有游戏\n",
    "def process_all_games(df_games, access_token):\n",
    "    print(f\"开始处理全部 {len(df_games)} 个游戏...\")\n",
    "    game_info_list = []\n",
    "    \n",
    "    for game in tqdm(df_games[\"Game\"].tolist(), desc=\"获取游戏信息\"):\n",
    "        try:\n",
    "            info = get_game_info(access_token, game)\n",
    "            game_info_list.append({\n",
    "                \"Game\": game,\n",
    "                \"Genre\": info[\"Genre\"],\n",
    "                \"Release Year\": info[\"Release Year\"],\n",
    "                \"Release Month\": info[\"Release Month\"],\n",
    "                \"Game Name in IGDB\": info[\"Game Name in IGDB\"],\n",
    "                \"Multiple Results\": info[\"Multiple Results\"],\n",
    "                \"Results Count\": info[\"Results Count\"]\n",
    "            })\n",
    "            # 添加随机延迟0.2-0.5秒，防止API限制\n",
    "            time.sleep(0.2 + 0.3 * (time.time() % 1))\n",
    "        except Exception as e:\n",
    "            print(f\"\\n处理游戏 '{game}' 时出错: {str(e)}\")\n",
    "            # 如果出错，添加空结果并继续\n",
    "            game_info_list.append({\n",
    "                \"Game\": game,\n",
    "                \"Genre\": \"Error\",\n",
    "                \"Release Year\": \"Error\",\n",
    "                \"Release Month\": \"Error\",\n",
    "                \"Game Name in IGDB\": f\"Error: {str(e)}\",\n",
    "                \"Multiple Results\": \"否\",\n",
    "                \"Results Count\": 0\n",
    "            })\n",
    "            # 发生错误时稍微多等一下\n",
    "            time.sleep(1)\n",
    "        \n",
    "        # 每处理100个游戏保存一次中间结果，防止意外中断导致数据丢失\n",
    "        if len(game_info_list) % 100 == 0:\n",
    "            temp_df = pd.DataFrame(game_info_list)\n",
    "            temp_df.to_csv(f\"game_info_temp_{len(game_info_list)}.csv\", index=False, encoding='UTF-8')\n",
    "            print(f\"\\n已处理 {len(game_info_list)} 个游戏，临时保存结果\")\n",
    "            \n",
    "    df_game_info = pd.DataFrame(game_info_list)\n",
    "    output_path = \"game_info_full.csv\"\n",
    "    df_game_info.to_csv(output_path, index=False, encoding='UTF-8')\n",
    "    print(f\"处理完成，文件已保存至 {output_path}\")\n",
    "    \n",
    "    # 输出统计信息\n",
    "    multiple_results = df_game_info[df_game_info[\"Multiple Results\"] == \"是\"].shape[0]\n",
    "    not_found = df_game_info[df_game_info[\"Game Name in IGDB\"] == \"Not Found\"].shape[0]\n",
    "    errors = df_game_info[df_game_info[\"Release Year\"] == \"Error\"].shape[0]\n",
    "    \n",
    "    print(\"\\n处理统计:\")\n",
    "    print(f\"总游戏数: {len(df_game_info)}\")\n",
    "    print(f\"有多个搜索结果的游戏: {multiple_results} ({multiple_results/len(df_game_info)*100:.1f}%)\")\n",
    "    print(f\"未找到的游戏: {not_found} ({not_found/len(df_game_info)*100:.1f}%)\")\n",
    "    print(f\"处理出错的游戏: {errors} ({errors/len(df_game_info)*100:.1f}%)\")\n",
    "    \n",
    "    return df_game_info\n",
    "\n",
    "if __name__ == \"__main__\":\n",
    "    # 读取唯一游戏列表\n",
    "    unique_games_path = \"unique_games.csv\"\n",
    "    try:\n",
    "        df_games = pd.read_csv(unique_games_path, encoding='UTF-8')\n",
    "    except UnicodeDecodeError:\n",
    "        df_games = pd.read_csv(unique_games_path, encoding='ISO-8859-1')\n",
    "    \n",
    "    # 获取访问令牌\n",
    "    print(\"获取API访问令牌...\")\n",
    "    access_token = get_access_token()\n",
    "    \n",
    "    # 询问用户是否想处理整个文件或部分文件\n",
    "    while True:\n",
    "        process_option = input(\"请选择处理方式:\\n1. 处理全部游戏\\n2. 处理指定数量的游戏\\n请输入选择 (1/2): \")\n",
    "        if process_option == '1':\n",
    "            # 处理所有游戏\n",
    "            df_game_info = process_all_games(df_games, access_token)\n",
    "            break\n",
    "        elif process_option == '2':\n",
    "            try:\n",
    "                num_games = int(input(\"请输入要处理的游戏数量: \"))\n",
    "                if num_games > 0 and num_games <= len(df_games):\n",
    "                    # 处理指定数量的游戏\n",
    "                    df_partial = df_games.head(num_games)\n",
    "                    df_game_info = process_all_games(df_partial, access_token)\n",
    "                    break\n",
    "                else:\n",
    "                    print(f\"请输入有效数字 (1-{len(df_games)})\")\n",
    "            except ValueError:\n",
    "                print(\"请输入有效数字\")\n",
    "        else:\n",
    "            print(\"无效选择，请重新输入\")\n",
    "    \n",
    "    print(\"处理完成！\")"
   ]
  },
  {
   "cell_type": "code",
   "execution_count": 1,
   "metadata": {},
   "outputs": [
    {
     "name": "stdout",
     "output_type": "stream",
     "text": [
      "获取API访问令牌...\n",
      "开始处理全部 2360 个游戏...\n"
     ]
    },
    {
     "name": "stderr",
     "output_type": "stream",
     "text": [
      "获取游戏信息:  52%|█████▏    | 1218/2360 [14:25<16:05,  1.18it/s]"
     ]
    },
    {
     "name": "stdout",
     "output_type": "stream",
     "text": [
      "\n",
      "处理游戏 'nan' 时出错: expected string or bytes-like object, got 'float'\n"
     ]
    },
    {
     "name": "stderr",
     "output_type": "stream",
     "text": [
      "获取游戏信息: 100%|██████████| 2360/2360 [27:35<00:00,  1.43it/s]"
     ]
    },
    {
     "name": "stdout",
     "output_type": "stream",
     "text": [
      "处理完成，文件已保存至 igdb_data.csv\n",
      "处理完成！\n"
     ]
    },
    {
     "name": "stderr",
     "output_type": "stream",
     "text": [
      "\n"
     ]
    }
   ],
   "source": [
    "import requests\n",
    "import pandas as pd\n",
    "import time\n",
    "import re\n",
    "from tqdm import tqdm\n",
    "\n",
    "# IGDB API 凭据\n",
    "CLIENT_ID = \"e1cvubjaunqp8g8rhyxmuog7ld4tsy\"\n",
    "CLIENT_SECRET = \"tnettt8ysiuybxxi1g8dlkzlwbzice\"\n",
    "\n",
    "# 获取 OAuth 令牌\n",
    "def get_access_token():\n",
    "    url = \"https://id.twitch.tv/oauth2/token\"\n",
    "    params = {\n",
    "        \"client_id\": CLIENT_ID,\n",
    "        \"client_secret\": CLIENT_SECRET,\n",
    "        \"grant_type\": \"client_credentials\"\n",
    "    }\n",
    "    response = requests.post(url, params=params)\n",
    "    response.raise_for_status()\n",
    "    return response.json()[\"access_token\"]\n",
    "\n",
    "# 查询 IGDB API 获取游戏信息\n",
    "def get_game_info(access_token, game_name):\n",
    "    url = \"https://api.igdb.com/v4/games\"\n",
    "    headers = {\n",
    "        \"Client-ID\": CLIENT_ID,\n",
    "        \"Authorization\": f\"Bearer {access_token}\",\n",
    "        \"Accept\": \"application/json\"\n",
    "    }\n",
    "    \n",
    "    data = f'fields name, genres.name, first_release_date, rating, status, platforms.name; where name = \"{game_name}\"; limit 5;'\n",
    "    response = requests.post(url, headers=headers, data=data)\n",
    "    response.raise_for_status()\n",
    "    exact_results = response.json()\n",
    "    \n",
    "    search_results = []\n",
    "    if not exact_results:\n",
    "        clean_name = re.sub(r'[^\\w\\s]', '', game_name)\n",
    "        data = f'fields name, genres.name, first_release_date, rating, status, platforms.name; search \"{clean_name}\"; limit 5;'\n",
    "        response = requests.post(url, headers=headers, data=data)\n",
    "        response.raise_for_status()\n",
    "        search_results = response.json()\n",
    "    \n",
    "    results = exact_results if exact_results else search_results\n",
    "    results_count = len(results)\n",
    "    \n",
    "    if results:\n",
    "        best_match = None\n",
    "        highest_rating = -1\n",
    "        \n",
    "        for game in results:\n",
    "            if game[\"name\"].lower() == game_name.lower() or game[\"name\"].lower() in game_name.lower() or game_name.lower() in game[\"name\"].lower():\n",
    "                rating = game.get(\"rating\", 0)\n",
    "                if rating > highest_rating:\n",
    "                    highest_rating = rating\n",
    "                    best_match = game\n",
    "        \n",
    "        if not best_match and results:\n",
    "            best_match = results[0]\n",
    "            \n",
    "        if best_match:\n",
    "            genres = best_match.get(\"genres\", [])\n",
    "            genre_names = \", \".join([genre[\"name\"] for genre in genres]) if genres else \"Unknown\"\n",
    "            release_date = best_match.get(\"first_release_date\")\n",
    "            \n",
    "            if release_date:\n",
    "                release_year = time.strftime('%Y', time.gmtime(release_date))\n",
    "                release_month = time.strftime('%m', time.gmtime(release_date))\n",
    "                return {\n",
    "                    \"Genre\": genre_names, \n",
    "                    \"Release Year\": release_year,\n",
    "                    \"Release Month\": release_month,\n",
    "                    \"Game Name in IGDB\": best_match[\"name\"],\n",
    "                    \"Multiple Results\": \"是\" if results_count > 1 else \"否\",\n",
    "                    \"Results Count\": results_count\n",
    "                }\n",
    "    \n",
    "    return {\n",
    "        \"Genre\": \"Unknown\", \n",
    "        \"Release Year\": \"Unknown\",\n",
    "        \"Release Month\": \"Unknown\",\n",
    "        \"Game Name in IGDB\": \"Not Found\",\n",
    "        \"Multiple Results\": \"否\",\n",
    "        \"Results Count\": 0\n",
    "    }\n",
    "\n",
    "# 处理所有游戏\n",
    "def process_all_games(df_games, access_token):\n",
    "    print(f\"开始处理全部 {len(df_games)} 个游戏...\")\n",
    "    game_info_list = []\n",
    "    \n",
    "    for game in tqdm(df_games[\"Game\"].tolist(), desc=\"获取游戏信息\"):\n",
    "        try:\n",
    "            info = get_game_info(access_token, game)\n",
    "            game_info_list.append({\n",
    "                \"Game\": game,\n",
    "                \"Genre\": info[\"Genre\"],\n",
    "                \"Release Year\": info[\"Release Year\"],\n",
    "                \"Release Month\": info[\"Release Month\"],\n",
    "                \"Game Name in IGDB\": info[\"Game Name in IGDB\"],\n",
    "                \"Multiple Results\": info[\"Multiple Results\"],\n",
    "                \"Results Count\": info[\"Results Count\"]\n",
    "            })\n",
    "            time.sleep(0.2 + 0.3 * (time.time() % 1))\n",
    "        except Exception as e:\n",
    "            print(f\"\\n处理游戏 '{game}' 时出错: {str(e)}\")\n",
    "            game_info_list.append({\n",
    "                \"Game\": game,\n",
    "                \"Genre\": \"Error\",\n",
    "                \"Release Year\": \"Error\",\n",
    "                \"Release Month\": \"Error\",\n",
    "                \"Game Name in IGDB\": f\"Error: {str(e)}\",\n",
    "                \"Multiple Results\": \"否\",\n",
    "                \"Results Count\": 0\n",
    "            })\n",
    "            time.sleep(1)\n",
    "            \n",
    "    df_game_info = pd.DataFrame(game_info_list)\n",
    "    output_path = \"igdb_data.csv\"\n",
    "    df_game_info.to_csv(output_path, index=False, encoding='UTF-8')\n",
    "    print(f\"处理完成，文件已保存至 {output_path}\")\n",
    "    \n",
    "    return df_game_info\n",
    "\n",
    "if __name__ == \"__main__\":\n",
    "    unique_games_path = \"unique_games.csv\"\n",
    "    try:\n",
    "        df_games = pd.read_csv(unique_games_path, encoding='UTF-8')\n",
    "    except UnicodeDecodeError:\n",
    "        df_games = pd.read_csv(unique_games_path, encoding='ISO-8859-1')\n",
    "    \n",
    "    print(\"获取API访问令牌...\")\n",
    "    access_token = get_access_token()\n",
    "    \n",
    "    while True:\n",
    "        process_option = input(\"请选择处理方式:\\n1. 处理全部游戏\\n2. 处理指定数量的游戏\\n请输入选择 (1/2): \")\n",
    "        if process_option == '1':\n",
    "            df_game_info = process_all_games(df_games, access_token)\n",
    "            break\n",
    "        elif process_option == '2':\n",
    "            try:\n",
    "                num_games = int(input(\"请输入要处理的游戏数量: \"))\n",
    "                if num_games > 0 and num_games <= len(df_games):\n",
    "                    df_partial = df_games.head(num_games)\n",
    "                    df_game_info = process_all_games(df_partial, access_token)\n",
    "                    break\n",
    "                else:\n",
    "                    print(f\"请输入有效数字 (1-{len(df_games)})\")\n",
    "            except ValueError:\n",
    "                print(\"请输入有效数字\")\n",
    "        else:\n",
    "            print(\"无效选择，请重新输入\")\n",
    "    \n",
    "    print(\"处理完成！\")"
   ]
  }
 ],
 "metadata": {
  "kernelspec": {
   "display_name": "base",
   "language": "python",
   "name": "python3"
  },
  "language_info": {
   "codemirror_mode": {
    "name": "ipython",
    "version": 3
   },
   "file_extension": ".py",
   "mimetype": "text/x-python",
   "name": "python",
   "nbconvert_exporter": "python",
   "pygments_lexer": "ipython3",
   "version": "3.12.7"
  }
 },
 "nbformat": 4,
 "nbformat_minor": 2
}
